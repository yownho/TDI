{
 "cells": [
  {
   "cell_type": "code",
   "execution_count": null,
   "metadata": {
    "collapsed": false
   },
   "outputs": [],
   "source": [
    "import numpy as np\n",
    "import pandas as pd\n",
    "import os\n",
    "import random\n",
    "import itertools\n",
    "import matplotlib.pyplot as plt\n",
    "import matplotlib.mlab as mlab"
   ]
  },
  {
   "cell_type": "code",
   "execution_count": null,
   "metadata": {
    "collapsed": false
   },
   "outputs": [],
   "source": [
    "N = 25   # Postions\n",
    "M = 10   # Cars\n",
    "T = 50   # Rounds\n",
    "\n",
    "points = range(N) \n",
    "Car = range(M)\n",
    "\n",
    "print(points)\n",
    "print(Car)"
   ]
  },
  {
   "cell_type": "code",
   "execution_count": null,
   "metadata": {
    "collapsed": false
   },
   "outputs": [],
   "source": [
    "max_step = N - M\n",
    "min_step = 1\n",
    "\n",
    "Total_step = N-M + min_step*(M-1)\n",
    "while Total_step <= T:\n",
    "    max_step = max_step +1\n",
    "    min_step = min_step +1\n",
    "    Total_step = max_step + min_step*(M-1)\n",
    "\n",
    "min_step = min_step - 1\n",
    "print(max_step)\n",
    "print(min_step)"
   ]
  },
  {
   "cell_type": "code",
   "execution_count": null,
   "metadata": {
    "collapsed": false
   },
   "outputs": [],
   "source": [
    "steps = range(max_step+1)\n",
    "\n",
    "# Find all combinations\n",
    "comb = itertools.combinations_with_replacement(steps,M)"
   ]
  },
  {
   "cell_type": "code",
   "execution_count": null,
   "metadata": {
    "collapsed": false
   },
   "outputs": [],
   "source": [
    "# convert to numpy array\n",
    "comb_ary = np.array(list(comb))\n",
    "print(comb_ary.shape)"
   ]
  },
  {
   "cell_type": "code",
   "execution_count": null,
   "metadata": {
    "collapsed": false
   },
   "outputs": [],
   "source": [
    "# sum of row\n",
    "sum_row_comb = np.sum(comb_ary,axis=1)\n",
    "\n",
    "#sd of row\n",
    "sd_row = np.std(comb_ary,axis=1)\n",
    "\n",
    "# combine sum and std\n",
    "sum_std = np.concatenate((sum_row_comb.reshape(-1,1),\n",
    "                     sd_row.reshape(-1,1)),\n",
    "                        axis=1)\n",
    "\n",
    "# combine sum,std to comb\n",
    "comb_ary_sum_std = np.concatenate((comb_ary,sum_std),axis=1)\n",
    "\n",
    "# select based on sum\n",
    "comb_ary_sum_std_slt = comb_ary_sum_std[np.where((comb_ary_sum_std[:,-2] == T)*\n",
    "                                                 (comb_ary_sum_std[:,(M-1)] - comb_ary_sum_std[:,0]\n",
    "                                                  <=M))]\n",
    "\n",
    "\n",
    "print(comb_ary_sum_std_slt[0:5,:])\n",
    "print(comb_ary_sum_std_slt.shape)"
   ]
  },
  {
   "cell_type": "code",
   "execution_count": null,
   "metadata": {
    "collapsed": false
   },
   "outputs": [],
   "source": [
    "final_step = comb_ary_sum_std_slt[:,0:M]\n",
    "print(final_step.shape)"
   ]
  },
  {
   "cell_type": "code",
   "execution_count": null,
   "metadata": {
    "collapsed": false
   },
   "outputs": [],
   "source": [
    "final_carp = final_step + Car\n",
    "\n",
    "final_carp_loop = final_carp - N\n",
    "final_carp_loop[final_carp_loop < 0] = 0\n",
    "\n",
    "final_carp_noloop = final_carp\n",
    "final_carp_noloop[final_carp_noloop > (N-1)] = 0\n",
    "\n",
    "final_car_points = final_carp_loop + final_carp_noloop\n",
    "print(final_car_points[0:5,:])"
   ]
  },
  {
   "cell_type": "code",
   "execution_count": null,
   "metadata": {
    "collapsed": false
   },
   "outputs": [],
   "source": [
    "# sum of row\n",
    "carpoints_mean = np.mean(final_car_points,axis=1)\n",
    "\n",
    "#sd of row\n",
    "carpoints_sd = np.std(final_car_points,axis=1)\n",
    "\n",
    "# combine sum and std\n",
    "mean_std = np.concatenate((carpoints_mean.reshape(-1,1),\n",
    "                     carpoints_sd.reshape(-1,1)),\n",
    "                        axis=1)\n",
    "\n",
    "# combine sum,std to comb\n",
    "final_car_points_meanstd = np.concatenate((final_car_points,mean_std),axis=1)"
   ]
  },
  {
   "cell_type": "code",
   "execution_count": null,
   "metadata": {
    "collapsed": false
   },
   "outputs": [],
   "source": [
    "A = final_car_points_meanstd[:,-2]\n",
    "S = final_car_points_meanstd[:,-1]"
   ]
  },
  {
   "cell_type": "code",
   "execution_count": null,
   "metadata": {
    "collapsed": true
   },
   "outputs": [],
   "source": [
    "# Expected value of A\n",
    "mean_A = np.mean(A)\n",
    "\n",
    "# standard value of A\n",
    "std_A = np.std(A)\n",
    "\n",
    "print(mean_A)\n",
    "print(std_A)"
   ]
  },
  {
   "cell_type": "code",
   "execution_count": null,
   "metadata": {
    "collapsed": false
   },
   "outputs": [],
   "source": [
    "# Expected value of S\n",
    "mean_S = np.mean(S)\n",
    "\n",
    "# standard value of S\n",
    "std_S = np.std(S)\n",
    "\n",
    "print(mean_S)\n",
    "print(std_S)"
   ]
  },
  {
   "cell_type": "code",
   "execution_count": null,
   "metadata": {
    "collapsed": true
   },
   "outputs": [],
   "source": []
  }
 ],
 "metadata": {
  "kernelspec": {
   "display_name": "Python 2",
   "language": "python",
   "name": "python2"
  },
  "language_info": {
   "codemirror_mode": {
    "name": "ipython",
    "version": 2
   },
   "file_extension": ".py",
   "mimetype": "text/x-python",
   "name": "python",
   "nbconvert_exporter": "python",
   "pygments_lexer": "ipython2",
   "version": "2.7.13"
  }
 },
 "nbformat": 4,
 "nbformat_minor": 2
}
